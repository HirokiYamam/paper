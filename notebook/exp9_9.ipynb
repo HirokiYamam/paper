{
 "cells": [
  {
   "cell_type": "code",
   "execution_count": 62,
   "id": "7d65c7cd",
   "metadata": {},
   "outputs": [],
   "source": [
    "import datetime\n",
    "import numpy as np"
   ]
  },
  {
   "cell_type": "code",
   "execution_count": 2,
   "id": "a80d90e2",
   "metadata": {},
   "outputs": [],
   "source": [
    "dt_now = datetime.datetime.now()"
   ]
  },
  {
   "cell_type": "code",
   "execution_count": 4,
   "id": "e2378215",
   "metadata": {},
   "outputs": [
    {
     "data": {
      "text/plain": [
       "9"
      ]
     },
     "execution_count": 4,
     "metadata": {},
     "output_type": "execute_result"
    }
   ],
   "source": [
    "dt_now.day"
   ]
  },
  {
   "cell_type": "code",
   "execution_count": 5,
   "id": "abb41dac",
   "metadata": {},
   "outputs": [],
   "source": [
    "num_element = 10"
   ]
  },
  {
   "cell_type": "code",
   "execution_count": 6,
   "id": "76612c4b",
   "metadata": {},
   "outputs": [
    {
     "data": {
      "text/plain": [
       "array([2.64120273, 5.00590228, 3.12294399, 3.62378888, 1.01993952,\n",
       "       2.59977548, 3.80203096, 2.98508792, 6.05666924, 5.35706225])"
      ]
     },
     "execution_count": 6,
     "metadata": {},
     "output_type": "execute_result"
    }
   ],
   "source": [
    "2*np.pi*np.random.rand(num_element)"
   ]
  },
  {
   "cell_type": "code",
   "execution_count": 7,
   "id": "a2ef7651",
   "metadata": {},
   "outputs": [
    {
     "data": {
      "text/plain": [
       "array([0.83286748, 0.13570982, 0.40143822, 0.93800203, 0.95292645,\n",
       "       0.18410197, 0.08811886, 0.97689274, 0.76301591, 0.25254795])"
      ]
     },
     "execution_count": 7,
     "metadata": {},
     "output_type": "execute_result"
    }
   ],
   "source": [
    "np.random.rand(num_element)"
   ]
  },
  {
   "cell_type": "code",
   "execution_count": 9,
   "id": "aefc4454",
   "metadata": {},
   "outputs": [
    {
     "data": {
      "text/plain": [
       "0.27032951391679005"
      ]
     },
     "execution_count": 9,
     "metadata": {},
     "output_type": "execute_result"
    }
   ],
   "source": [
    "np.random.rand()"
   ]
  },
  {
   "cell_type": "code",
   "execution_count": 25,
   "id": "dcf9ff22",
   "metadata": {},
   "outputs": [
    {
     "data": {
      "text/plain": [
       "0.9282176735039769"
      ]
     },
     "execution_count": 25,
     "metadata": {},
     "output_type": "execute_result"
    }
   ],
   "source": [
    "np.random.normal(\n",
    "    loc   = 1,      # 平均\n",
    "    scale = 0.1,      # 標準偏差\n",
    ")"
   ]
  },
  {
   "cell_type": "code",
   "execution_count": 34,
   "id": "8e03ae33",
   "metadata": {},
   "outputs": [],
   "source": [
    "input_data = np.zeros([1,6*num_element])"
   ]
  },
  {
   "cell_type": "code",
   "execution_count": 40,
   "id": "5701e3dd",
   "metadata": {},
   "outputs": [],
   "source": [
    "input_data[0][:5] = np.full(5,3)"
   ]
  },
  {
   "cell_type": "code",
   "execution_count": 39,
   "id": "cff55144",
   "metadata": {},
   "outputs": [
    {
     "data": {
      "text/plain": [
       "array([3, 3, 3, 3, 3])"
      ]
     },
     "execution_count": 39,
     "metadata": {},
     "output_type": "execute_result"
    }
   ],
   "source": [
    "np.full(5,3)"
   ]
  },
  {
   "cell_type": "code",
   "execution_count": 45,
   "id": "9695c55a",
   "metadata": {},
   "outputs": [
    {
     "data": {
      "text/plain": [
       "array([3., 0., 0., 0., 0., 0.])"
      ]
     },
     "execution_count": 45,
     "metadata": {},
     "output_type": "execute_result"
    }
   ],
   "source": [
    "input_data[0,4:10]"
   ]
  },
  {
   "cell_type": "code",
   "execution_count": 71,
   "id": "2875b5b3",
   "metadata": {},
   "outputs": [
    {
     "ename": "KeyboardInterrupt",
     "evalue": "",
     "output_type": "error",
     "traceback": [
      "\u001b[0;31m---------------------------------------------------------------------------\u001b[0m",
      "\u001b[0;31mKeyboardInterrupt\u001b[0m                         Traceback (most recent call last)",
      "Input \u001b[0;32mIn [71]\u001b[0m, in \u001b[0;36m<cell line: 3>\u001b[0;34m()\u001b[0m\n\u001b[1;32m      1\u001b[0m \u001b[38;5;28;01mfrom\u001b[39;00m \u001b[38;5;21;01mmultiprocessing\u001b[39;00m \u001b[38;5;28;01mimport\u001b[39;00m Pool, Lock, Value\n\u001b[1;32m      2\u001b[0m \u001b[38;5;28;01mimport\u001b[39;00m \u001b[38;5;21;01mtime\u001b[39;00m\n\u001b[0;32m----> 3\u001b[0m \u001b[38;5;28;01mimport\u001b[39;00m \u001b[38;5;21;01mpandas\u001b[39;00m \u001b[38;5;28;01mas\u001b[39;00m \u001b[38;5;21;01mpd\u001b[39;00m\n",
      "File \u001b[0;32m~/opt/anaconda3/lib/python3.9/site-packages/pandas/__init__.py:138\u001b[0m, in \u001b[0;36m<module>\u001b[0;34m\u001b[0m\n\u001b[1;32m    135\u001b[0m \u001b[38;5;28;01mfrom\u001b[39;00m \u001b[38;5;21;01mpandas\u001b[39;00m \u001b[38;5;28;01mimport\u001b[39;00m api, arrays, errors, io, plotting, testing, tseries\n\u001b[1;32m    136\u001b[0m \u001b[38;5;28;01mfrom\u001b[39;00m \u001b[38;5;21;01mpandas\u001b[39;00m\u001b[38;5;21;01m.\u001b[39;00m\u001b[38;5;21;01mutil\u001b[39;00m\u001b[38;5;21;01m.\u001b[39;00m\u001b[38;5;21;01m_print_versions\u001b[39;00m \u001b[38;5;28;01mimport\u001b[39;00m show_versions\n\u001b[0;32m--> 138\u001b[0m \u001b[38;5;28;01mfrom\u001b[39;00m \u001b[38;5;21;01mpandas\u001b[39;00m\u001b[38;5;21;01m.\u001b[39;00m\u001b[38;5;21;01mio\u001b[39;00m\u001b[38;5;21;01m.\u001b[39;00m\u001b[38;5;21;01mapi\u001b[39;00m \u001b[38;5;28;01mimport\u001b[39;00m (\n\u001b[1;32m    139\u001b[0m     \u001b[38;5;66;03m# excel\u001b[39;00m\n\u001b[1;32m    140\u001b[0m     ExcelFile,\n\u001b[1;32m    141\u001b[0m     ExcelWriter,\n\u001b[1;32m    142\u001b[0m     read_excel,\n\u001b[1;32m    143\u001b[0m     \u001b[38;5;66;03m# parsers\u001b[39;00m\n\u001b[1;32m    144\u001b[0m     read_csv,\n\u001b[1;32m    145\u001b[0m     read_fwf,\n\u001b[1;32m    146\u001b[0m     read_table,\n\u001b[1;32m    147\u001b[0m     \u001b[38;5;66;03m# pickle\u001b[39;00m\n\u001b[1;32m    148\u001b[0m     read_pickle,\n\u001b[1;32m    149\u001b[0m     to_pickle,\n\u001b[1;32m    150\u001b[0m     \u001b[38;5;66;03m# pytables\u001b[39;00m\n\u001b[1;32m    151\u001b[0m     HDFStore,\n\u001b[1;32m    152\u001b[0m     read_hdf,\n\u001b[1;32m    153\u001b[0m     \u001b[38;5;66;03m# sql\u001b[39;00m\n\u001b[1;32m    154\u001b[0m     read_sql,\n\u001b[1;32m    155\u001b[0m     read_sql_query,\n\u001b[1;32m    156\u001b[0m     read_sql_table,\n\u001b[1;32m    157\u001b[0m     \u001b[38;5;66;03m# misc\u001b[39;00m\n\u001b[1;32m    158\u001b[0m     read_clipboard,\n\u001b[1;32m    159\u001b[0m     read_parquet,\n\u001b[1;32m    160\u001b[0m     read_orc,\n\u001b[1;32m    161\u001b[0m     read_feather,\n\u001b[1;32m    162\u001b[0m     read_gbq,\n\u001b[1;32m    163\u001b[0m     read_html,\n\u001b[1;32m    164\u001b[0m     read_xml,\n\u001b[1;32m    165\u001b[0m     read_json,\n\u001b[1;32m    166\u001b[0m     read_stata,\n\u001b[1;32m    167\u001b[0m     read_sas,\n\u001b[1;32m    168\u001b[0m     read_spss,\n\u001b[1;32m    169\u001b[0m )\n\u001b[1;32m    171\u001b[0m \u001b[38;5;28;01mfrom\u001b[39;00m \u001b[38;5;21;01mpandas\u001b[39;00m\u001b[38;5;21;01m.\u001b[39;00m\u001b[38;5;21;01mio\u001b[39;00m\u001b[38;5;21;01m.\u001b[39;00m\u001b[38;5;21;01mjson\u001b[39;00m \u001b[38;5;28;01mimport\u001b[39;00m _json_normalize \u001b[38;5;28;01mas\u001b[39;00m json_normalize\n\u001b[1;32m    173\u001b[0m \u001b[38;5;28;01mfrom\u001b[39;00m \u001b[38;5;21;01mpandas\u001b[39;00m\u001b[38;5;21;01m.\u001b[39;00m\u001b[38;5;21;01mutil\u001b[39;00m\u001b[38;5;21;01m.\u001b[39;00m\u001b[38;5;21;01m_tester\u001b[39;00m \u001b[38;5;28;01mimport\u001b[39;00m test\n",
      "File \u001b[0;32m~/opt/anaconda3/lib/python3.9/site-packages/pandas/io/api.py:17\u001b[0m, in \u001b[0;36m<module>\u001b[0;34m\u001b[0m\n\u001b[1;32m     15\u001b[0m \u001b[38;5;28;01mfrom\u001b[39;00m \u001b[38;5;21;01mpandas\u001b[39;00m\u001b[38;5;21;01m.\u001b[39;00m\u001b[38;5;21;01mio\u001b[39;00m\u001b[38;5;21;01m.\u001b[39;00m\u001b[38;5;21;01mhtml\u001b[39;00m \u001b[38;5;28;01mimport\u001b[39;00m read_html\n\u001b[1;32m     16\u001b[0m \u001b[38;5;28;01mfrom\u001b[39;00m \u001b[38;5;21;01mpandas\u001b[39;00m\u001b[38;5;21;01m.\u001b[39;00m\u001b[38;5;21;01mio\u001b[39;00m\u001b[38;5;21;01m.\u001b[39;00m\u001b[38;5;21;01mjson\u001b[39;00m \u001b[38;5;28;01mimport\u001b[39;00m read_json\n\u001b[0;32m---> 17\u001b[0m \u001b[38;5;28;01mfrom\u001b[39;00m \u001b[38;5;21;01mpandas\u001b[39;00m\u001b[38;5;21;01m.\u001b[39;00m\u001b[38;5;21;01mio\u001b[39;00m\u001b[38;5;21;01m.\u001b[39;00m\u001b[38;5;21;01morc\u001b[39;00m \u001b[38;5;28;01mimport\u001b[39;00m read_orc\n\u001b[1;32m     18\u001b[0m \u001b[38;5;28;01mfrom\u001b[39;00m \u001b[38;5;21;01mpandas\u001b[39;00m\u001b[38;5;21;01m.\u001b[39;00m\u001b[38;5;21;01mio\u001b[39;00m\u001b[38;5;21;01m.\u001b[39;00m\u001b[38;5;21;01mparquet\u001b[39;00m \u001b[38;5;28;01mimport\u001b[39;00m read_parquet\n\u001b[1;32m     19\u001b[0m \u001b[38;5;28;01mfrom\u001b[39;00m \u001b[38;5;21;01mpandas\u001b[39;00m\u001b[38;5;21;01m.\u001b[39;00m\u001b[38;5;21;01mio\u001b[39;00m\u001b[38;5;21;01m.\u001b[39;00m\u001b[38;5;21;01mparsers\u001b[39;00m \u001b[38;5;28;01mimport\u001b[39;00m (\n\u001b[1;32m     20\u001b[0m     read_csv,\n\u001b[1;32m     21\u001b[0m     read_fwf,\n\u001b[1;32m     22\u001b[0m     read_table,\n\u001b[1;32m     23\u001b[0m )\n",
      "File \u001b[0;32m<frozen importlib._bootstrap>:1007\u001b[0m, in \u001b[0;36m_find_and_load\u001b[0;34m(name, import_)\u001b[0m\n",
      "File \u001b[0;32m<frozen importlib._bootstrap>:986\u001b[0m, in \u001b[0;36m_find_and_load_unlocked\u001b[0;34m(name, import_)\u001b[0m\n",
      "File \u001b[0;32m<frozen importlib._bootstrap>:680\u001b[0m, in \u001b[0;36m_load_unlocked\u001b[0;34m(spec)\u001b[0m\n",
      "File \u001b[0;32m<frozen importlib._bootstrap_external>:846\u001b[0m, in \u001b[0;36mexec_module\u001b[0;34m(self, module)\u001b[0m\n",
      "File \u001b[0;32m<frozen importlib._bootstrap_external>:941\u001b[0m, in \u001b[0;36mget_code\u001b[0;34m(self, fullname)\u001b[0m\n",
      "File \u001b[0;32m<frozen importlib._bootstrap_external>:1039\u001b[0m, in \u001b[0;36mget_data\u001b[0;34m(self, path)\u001b[0m\n",
      "\u001b[0;31mKeyboardInterrupt\u001b[0m: "
     ]
    }
   ],
   "source": [
    "from multiprocessing import Pool, Lock, Value\n",
    "import time\n",
    "import pandas as pd"
   ]
  },
  {
   "cell_type": "code",
   "execution_count": null,
   "id": "1e92bdf4",
   "metadata": {},
   "outputs": [],
   "source": [
    "def mainf():\n",
    "    l.acquire()\n",
    "    if count.value %2==0:\n",
    "        with iter.get_lock():\n",
    "            iter.value = iter.value+1 \n",
    "    l.release()\n",
    "    count.value+=1\n",
    "    print(f'iter:{iter.value}')\n",
    "    print(f'count:{count.value}')\n",
    "    return iter.value"
   ]
  },
  {
   "cell_type": "code",
   "execution_count": null,
   "id": "cc075e94",
   "metadata": {},
   "outputs": [],
   "source": [
    "if __name__ == '__main__':\n",
    "    start = time.time()\n",
    "    date = datetime.datetime.now()\n",
    "    l = Lock() \n",
    "    iter = Value('i',0) \n",
    "    count = Value('i',0)\n",
    "    print(\"Calculating...\")\n",
    "    p = Pool(processes=12)\n",
    "    a = list(range(5))\n",
    "    b = list(range(5))\n",
    "    np.random.shuffle(b)\n",
    "    result_list = p.starmap(func=mainf, iterable=zip(a,b))\n",
    "    p.close()\n",
    "    total_time = time.time()-start\n",
    "    total_time = datetime.timedelta(seconds=total_time)"
   ]
  },
  {
   "cell_type": "code",
   "execution_count": 57,
   "id": "488dea5d",
   "metadata": {},
   "outputs": [],
   "source": [
    "a = list(range(5))\n",
    "b = list(range(5))"
   ]
  },
  {
   "cell_type": "code",
   "execution_count": 58,
   "id": "95428846",
   "metadata": {},
   "outputs": [],
   "source": [
    "np.random.shuffle(b)"
   ]
  },
  {
   "cell_type": "code",
   "execution_count": 59,
   "id": "f8834594",
   "metadata": {},
   "outputs": [
    {
     "data": {
      "text/plain": [
       "[0, 1, 2, 3, 4]"
      ]
     },
     "execution_count": 59,
     "metadata": {},
     "output_type": "execute_result"
    }
   ],
   "source": [
    "a"
   ]
  },
  {
   "cell_type": "code",
   "execution_count": 60,
   "id": "cf7c6a80",
   "metadata": {},
   "outputs": [
    {
     "data": {
      "text/plain": [
       "[1, 4, 0, 3, 2]"
      ]
     },
     "execution_count": 60,
     "metadata": {},
     "output_type": "execute_result"
    }
   ],
   "source": [
    "b"
   ]
  },
  {
   "cell_type": "code",
   "execution_count": 63,
   "id": "cc7df6eb",
   "metadata": {},
   "outputs": [],
   "source": [
    "target = np.zeros([1,60])"
   ]
  },
  {
   "cell_type": "code",
   "execution_count": 66,
   "id": "d038b856",
   "metadata": {},
   "outputs": [],
   "source": [
    "target[0][:20] =np.full(20,3)"
   ]
  },
  {
   "cell_type": "code",
   "execution_count": 72,
   "id": "337dbf90",
   "metadata": {},
   "outputs": [],
   "source": [
    "import pandas as pd"
   ]
  },
  {
   "cell_type": "code",
   "execution_count": 73,
   "id": "2cdfff62",
   "metadata": {},
   "outputs": [
    {
     "data": {
      "text/html": [
       "<div>\n",
       "<style scoped>\n",
       "    .dataframe tbody tr th:only-of-type {\n",
       "        vertical-align: middle;\n",
       "    }\n",
       "\n",
       "    .dataframe tbody tr th {\n",
       "        vertical-align: top;\n",
       "    }\n",
       "\n",
       "    .dataframe thead th {\n",
       "        text-align: right;\n",
       "    }\n",
       "</style>\n",
       "<table border=\"1\" class=\"dataframe\">\n",
       "  <thead>\n",
       "    <tr style=\"text-align: right;\">\n",
       "      <th></th>\n",
       "      <th>0</th>\n",
       "    </tr>\n",
       "  </thead>\n",
       "  <tbody>\n",
       "    <tr>\n",
       "      <th>0</th>\n",
       "      <td>3.0</td>\n",
       "    </tr>\n",
       "    <tr>\n",
       "      <th>1</th>\n",
       "      <td>3.0</td>\n",
       "    </tr>\n",
       "    <tr>\n",
       "      <th>2</th>\n",
       "      <td>3.0</td>\n",
       "    </tr>\n",
       "    <tr>\n",
       "      <th>3</th>\n",
       "      <td>3.0</td>\n",
       "    </tr>\n",
       "    <tr>\n",
       "      <th>4</th>\n",
       "      <td>3.0</td>\n",
       "    </tr>\n",
       "    <tr>\n",
       "      <th>5</th>\n",
       "      <td>3.0</td>\n",
       "    </tr>\n",
       "    <tr>\n",
       "      <th>6</th>\n",
       "      <td>3.0</td>\n",
       "    </tr>\n",
       "    <tr>\n",
       "      <th>7</th>\n",
       "      <td>3.0</td>\n",
       "    </tr>\n",
       "    <tr>\n",
       "      <th>8</th>\n",
       "      <td>3.0</td>\n",
       "    </tr>\n",
       "    <tr>\n",
       "      <th>9</th>\n",
       "      <td>3.0</td>\n",
       "    </tr>\n",
       "    <tr>\n",
       "      <th>10</th>\n",
       "      <td>3.0</td>\n",
       "    </tr>\n",
       "    <tr>\n",
       "      <th>11</th>\n",
       "      <td>3.0</td>\n",
       "    </tr>\n",
       "    <tr>\n",
       "      <th>12</th>\n",
       "      <td>3.0</td>\n",
       "    </tr>\n",
       "    <tr>\n",
       "      <th>13</th>\n",
       "      <td>3.0</td>\n",
       "    </tr>\n",
       "    <tr>\n",
       "      <th>14</th>\n",
       "      <td>3.0</td>\n",
       "    </tr>\n",
       "    <tr>\n",
       "      <th>15</th>\n",
       "      <td>3.0</td>\n",
       "    </tr>\n",
       "    <tr>\n",
       "      <th>16</th>\n",
       "      <td>3.0</td>\n",
       "    </tr>\n",
       "    <tr>\n",
       "      <th>17</th>\n",
       "      <td>3.0</td>\n",
       "    </tr>\n",
       "    <tr>\n",
       "      <th>18</th>\n",
       "      <td>3.0</td>\n",
       "    </tr>\n",
       "    <tr>\n",
       "      <th>19</th>\n",
       "      <td>3.0</td>\n",
       "    </tr>\n",
       "  </tbody>\n",
       "</table>\n",
       "</div>"
      ],
      "text/plain": [
       "      0\n",
       "0   3.0\n",
       "1   3.0\n",
       "2   3.0\n",
       "3   3.0\n",
       "4   3.0\n",
       "5   3.0\n",
       "6   3.0\n",
       "7   3.0\n",
       "8   3.0\n",
       "9   3.0\n",
       "10  3.0\n",
       "11  3.0\n",
       "12  3.0\n",
       "13  3.0\n",
       "14  3.0\n",
       "15  3.0\n",
       "16  3.0\n",
       "17  3.0\n",
       "18  3.0\n",
       "19  3.0"
      ]
     },
     "execution_count": 73,
     "metadata": {},
     "output_type": "execute_result"
    }
   ],
   "source": [
    "pd.DataFrame(np.array(target[0][:20]))"
   ]
  },
  {
   "cell_type": "code",
   "execution_count": null,
   "id": "3406012e",
   "metadata": {},
   "outputs": [],
   "source": []
  }
 ],
 "metadata": {
  "kernelspec": {
   "display_name": "Python 3 (ipykernel)",
   "language": "python",
   "name": "python3"
  },
  "language_info": {
   "codemirror_mode": {
    "name": "ipython",
    "version": 3
   },
   "file_extension": ".py",
   "mimetype": "text/x-python",
   "name": "python",
   "nbconvert_exporter": "python",
   "pygments_lexer": "ipython3",
   "version": "3.9.12"
  }
 },
 "nbformat": 4,
 "nbformat_minor": 5
}
